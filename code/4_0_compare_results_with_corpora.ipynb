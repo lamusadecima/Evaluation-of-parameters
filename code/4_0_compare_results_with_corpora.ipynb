{
 "cells": [
  {
   "cell_type": "code",
   "execution_count": 27,
   "metadata": {},
   "outputs": [],
   "source": [
    "import sys\n",
    "import os\n",
    "import shutil\n",
    "import datetime\n",
    "import re\n",
    "import pandas as pd\n",
    "from collections import Counter\n",
    "#sys.path.append(os.path.abspath(\"/home/jose/Dropbox/Doktorarbeit/\"))\n",
    "#from reading_robot import load_data, tei2text, text2features, classify, process_labels, describe_data,feature_analysis, cull_data, st_tests, metadata2numbers, cluster, call_stylo, prepare_subcorpus\n",
    "import scipy.stats as stats\n",
    "import seaborn as sns\n",
    "from sklearn.metrics import adjusted_rand_score\n",
    "import matplotlib.pyplot as plt\n",
    "%matplotlib inline\n",
    "from shutil import copyfile\n",
    "import numpy as np\n",
    "import glob"
   ]
  },
  {
   "cell_type": "markdown",
   "metadata": {},
   "source": [
    "# Read Data"
   ]
  },
  {
   "cell_type": "code",
   "execution_count": 28,
   "metadata": {},
   "outputs": [
    {
     "data": {
      "text/html": [
       "<div>\n",
       "<style scoped>\n",
       "    .dataframe tbody tr th:only-of-type {\n",
       "        vertical-align: middle;\n",
       "    }\n",
       "\n",
       "    .dataframe tbody tr th {\n",
       "        vertical-align: top;\n",
       "    }\n",
       "\n",
       "    .dataframe thead th {\n",
       "        text-align: right;\n",
       "    }\n",
       "</style>\n",
       "<table border=\"1\" class=\"dataframe\">\n",
       "  <thead>\n",
       "    <tr style=\"text-align: right;\">\n",
       "      <th></th>\n",
       "      <th>number_texts</th>\n",
       "      <th>number_authors</th>\n",
       "      <th>mean_number_text_author</th>\n",
       "      <th>std_number_text_author</th>\n",
       "      <th>mean_length</th>\n",
       "      <th>std_length</th>\n",
       "      <th>distribution_authors_texts</th>\n",
       "    </tr>\n",
       "  </thead>\n",
       "  <tbody>\n",
       "    <tr>\n",
       "      <th>16-17-poesia</th>\n",
       "      <td>82</td>\n",
       "      <td>41</td>\n",
       "      <td>2.0</td>\n",
       "      <td>0.00</td>\n",
       "      <td>4818.85</td>\n",
       "      <td>6630.09</td>\n",
       "      <td>LuisCarrilloySotomayor     2\\nJosephdeLitalayC...</td>\n",
       "    </tr>\n",
       "    <tr>\n",
       "      <th>16-17-prosa</th>\n",
       "      <td>24</td>\n",
       "      <td>5</td>\n",
       "      <td>4.8</td>\n",
       "      <td>3.42</td>\n",
       "      <td>65924.92</td>\n",
       "      <td>75740.65</td>\n",
       "      <td>Vives-Juan-Luis    9\\nMejía             8\\nVa...</td>\n",
       "    </tr>\n",
       "    <tr>\n",
       "      <th>16-17-teatro</th>\n",
       "      <td>38</td>\n",
       "      <td>10</td>\n",
       "      <td>3.8</td>\n",
       "      <td>1.62</td>\n",
       "      <td>13011.58</td>\n",
       "      <td>4041.93</td>\n",
       "      <td>Lope             6\\nCalderon         6\\nTirso ...</td>\n",
       "    </tr>\n",
       "    <tr>\n",
       "      <th>19-20-cuent-esp</th>\n",
       "      <td>17</td>\n",
       "      <td>5</td>\n",
       "      <td>3.4</td>\n",
       "      <td>0.89</td>\n",
       "      <td>40822.24</td>\n",
       "      <td>22187.59</td>\n",
       "      <td>Clarin          4\\nMiro            4\\nBazan   ...</td>\n",
       "    </tr>\n",
       "    <tr>\n",
       "      <th>19-20-nov-esp</th>\n",
       "      <td>39</td>\n",
       "      <td>13</td>\n",
       "      <td>3.0</td>\n",
       "      <td>0.00</td>\n",
       "      <td>64642.72</td>\n",
       "      <td>35161.19</td>\n",
       "      <td>Valera          3\\nBazan           3\\nUnamuno ...</td>\n",
       "    </tr>\n",
       "    <tr>\n",
       "      <th>19-20-nov-hisp</th>\n",
       "      <td>24</td>\n",
       "      <td>8</td>\n",
       "      <td>3.0</td>\n",
       "      <td>0.00</td>\n",
       "      <td>47010.88</td>\n",
       "      <td>35543.78</td>\n",
       "      <td>Holmberg      3\\nCambaceres    3\\nCuellar     ...</td>\n",
       "    </tr>\n",
       "    <tr>\n",
       "      <th>19-20-poesia</th>\n",
       "      <td>64</td>\n",
       "      <td>32</td>\n",
       "      <td>2.0</td>\n",
       "      <td>0.00</td>\n",
       "      <td>1837.72</td>\n",
       "      <td>689.40</td>\n",
       "      <td>Ros-de-Olano-Antonio               2\\nBaralt-R...</td>\n",
       "    </tr>\n",
       "  </tbody>\n",
       "</table>\n",
       "</div>"
      ],
      "text/plain": [
       "                 number_texts  number_authors  mean_number_text_author  \\\n",
       "16-17-poesia               82              41                      2.0   \n",
       "16-17-prosa                24               5                      4.8   \n",
       "16-17-teatro               38              10                      3.8   \n",
       "19-20-cuent-esp            17               5                      3.4   \n",
       "19-20-nov-esp              39              13                      3.0   \n",
       "19-20-nov-hisp             24               8                      3.0   \n",
       "19-20-poesia               64              32                      2.0   \n",
       "\n",
       "                 std_number_text_author  mean_length  std_length  \\\n",
       "16-17-poesia                       0.00      4818.85     6630.09   \n",
       "16-17-prosa                        3.42     65924.92    75740.65   \n",
       "16-17-teatro                       1.62     13011.58     4041.93   \n",
       "19-20-cuent-esp                    0.89     40822.24    22187.59   \n",
       "19-20-nov-esp                      0.00     64642.72    35161.19   \n",
       "19-20-nov-hisp                     0.00     47010.88    35543.78   \n",
       "19-20-poesia                       0.00      1837.72      689.40   \n",
       "\n",
       "                                        distribution_authors_texts  \n",
       "16-17-poesia     LuisCarrilloySotomayor     2\\nJosephdeLitalayC...  \n",
       "16-17-prosa      Vives-Juan-Luis    9\\nMejía             8\\nVa...  \n",
       "16-17-teatro     Lope             6\\nCalderon         6\\nTirso ...  \n",
       "19-20-cuent-esp  Clarin          4\\nMiro            4\\nBazan   ...  \n",
       "19-20-nov-esp    Valera          3\\nBazan           3\\nUnamuno ...  \n",
       "19-20-nov-hisp   Holmberg      3\\nCambaceres    3\\nCuellar     ...  \n",
       "19-20-poesia     Ros-de-Olano-Antonio               2\\nBaralt-R...  "
      ]
     },
     "execution_count": 28,
     "metadata": {},
     "output_type": "execute_result"
    }
   ],
   "source": [
    "summary_combined_df = pd.read_csv(\"./../data/summaries.tsv\",sep=\"\\t\",index_col=0).round(2)\n",
    "summary_combined_df"
   ]
  },
  {
   "cell_type": "code",
   "execution_count": 29,
   "metadata": {},
   "outputs": [],
   "source": [
    "df = pd.read_csv(\"./../results/202210_all_filtered.tsv\", sep=\"\\t\", index_col=0)"
   ]
  },
  {
   "cell_type": "code",
   "execution_count": 30,
   "metadata": {},
   "outputs": [
    {
     "data": {
      "text/plain": [
       "dist.minmax      1094\n",
       "dist.eder        1094\n",
       "dist.delta       1094\n",
       "dist.wurzburg    1094\n",
       "Name: distances, dtype: int64"
      ]
     },
     "execution_count": 30,
     "metadata": {},
     "output_type": "execute_result"
    }
   ],
   "source": [
    "df[\"distances\"].value_counts()"
   ]
  },
  {
   "cell_type": "code",
   "execution_count": 31,
   "metadata": {},
   "outputs": [
    {
     "data": {
      "text/plain": [
       "array(['novelas-hispanoamericanas', 'disco', 'prosa-SdO',\n",
       "       'Poesia_SiglodeOro', 'cuentos-espanoles', 'teatro-sgo',\n",
       "       'novelas-espanolas'], dtype=object)"
      ]
     },
     "execution_count": 31,
     "metadata": {},
     "output_type": "execute_result"
    }
   ],
   "source": [
    "df[\"corpus\"].unique()"
   ]
  },
  {
   "cell_type": "code",
   "execution_count": null,
   "metadata": {},
   "outputs": [],
   "source": []
  },
  {
   "cell_type": "code",
   "execution_count": 32,
   "metadata": {},
   "outputs": [],
   "source": [
    "df[\"corpus\"].replace(\n",
    "    {\n",
    "        'prosa-SdO': \"16-17-prosa\",\n",
    "        \n",
    "        'Poesia_SiglodeOro': \"16-17-poesia\",\n",
    "        'Poesia-SdO': \"16-17-poesia\",\n",
    "        'teatro-sgo': \"16-17-teatro\",\n",
    "        'teatro-sgo': \"16-17-teatro\",\n",
    "        \"disco\" : \"19-20-poesia\",\n",
    "        \"novelas-espanolas\" : \"19-20-nov-esp\",\n",
    "        \"novelas-hispanoamericanas\" : \"19-20-nov-hisp\",\n",
    "        \"cuentos-espanoles\" : \"19-20-cuent-esp\"\n",
    "        }, inplace=True)"
   ]
  },
  {
   "cell_type": "code",
   "execution_count": 33,
   "metadata": {},
   "outputs": [
    {
     "data": {
      "text/html": [
       "<div>\n",
       "<style scoped>\n",
       "    .dataframe tbody tr th:only-of-type {\n",
       "        vertical-align: middle;\n",
       "    }\n",
       "\n",
       "    .dataframe tbody tr th {\n",
       "        vertical-align: top;\n",
       "    }\n",
       "\n",
       "    .dataframe thead th {\n",
       "        text-align: right;\n",
       "    }\n",
       "</style>\n",
       "<table border=\"1\" class=\"dataframe\">\n",
       "  <thead>\n",
       "    <tr style=\"text-align: right;\">\n",
       "      <th></th>\n",
       "      <th>corpus</th>\n",
       "      <th>version</th>\n",
       "      <th>mfw</th>\n",
       "      <th>features</th>\n",
       "      <th>ngrams</th>\n",
       "      <th>distances</th>\n",
       "      <th>media</th>\n",
       "    </tr>\n",
       "  </thead>\n",
       "  <tbody>\n",
       "    <tr>\n",
       "      <th>0</th>\n",
       "      <td>19-20-nov-hisp</td>\n",
       "      <td>combination</td>\n",
       "      <td>100</td>\n",
       "      <td>w</td>\n",
       "      <td>4</td>\n",
       "      <td>dist.minmax</td>\n",
       "      <td>56.607143</td>\n",
       "    </tr>\n",
       "    <tr>\n",
       "      <th>1</th>\n",
       "      <td>19-20-poesia</td>\n",
       "      <td>combination</td>\n",
       "      <td>100</td>\n",
       "      <td>c</td>\n",
       "      <td>1</td>\n",
       "      <td>dist.minmax</td>\n",
       "      <td>35.441089</td>\n",
       "    </tr>\n",
       "    <tr>\n",
       "      <th>2</th>\n",
       "      <td>19-20-poesia</td>\n",
       "      <td>combination</td>\n",
       "      <td>100</td>\n",
       "      <td>c</td>\n",
       "      <td>3</td>\n",
       "      <td>dist.eder</td>\n",
       "      <td>36.600046</td>\n",
       "    </tr>\n",
       "    <tr>\n",
       "      <th>3</th>\n",
       "      <td>19-20-poesia</td>\n",
       "      <td>combination</td>\n",
       "      <td>100</td>\n",
       "      <td>c</td>\n",
       "      <td>4</td>\n",
       "      <td>dist.eder</td>\n",
       "      <td>36.613470</td>\n",
       "    </tr>\n",
       "    <tr>\n",
       "      <th>4</th>\n",
       "      <td>19-20-poesia</td>\n",
       "      <td>combination</td>\n",
       "      <td>100</td>\n",
       "      <td>c</td>\n",
       "      <td>4</td>\n",
       "      <td>dist.minmax</td>\n",
       "      <td>37.338606</td>\n",
       "    </tr>\n",
       "    <tr>\n",
       "      <th>...</th>\n",
       "      <td>...</td>\n",
       "      <td>...</td>\n",
       "      <td>...</td>\n",
       "      <td>...</td>\n",
       "      <td>...</td>\n",
       "      <td>...</td>\n",
       "      <td>...</td>\n",
       "    </tr>\n",
       "    <tr>\n",
       "      <th>6265</th>\n",
       "      <td>19-20-poesia</td>\n",
       "      <td>fusion</td>\n",
       "      <td>5000</td>\n",
       "      <td>w</td>\n",
       "      <td>2</td>\n",
       "      <td>dist.delta</td>\n",
       "      <td>42.506842</td>\n",
       "    </tr>\n",
       "    <tr>\n",
       "      <th>6267</th>\n",
       "      <td>19-20-poesia</td>\n",
       "      <td>only-tokens</td>\n",
       "      <td>5000</td>\n",
       "      <td>w</td>\n",
       "      <td>1</td>\n",
       "      <td>dist.wurzburg</td>\n",
       "      <td>75.415982</td>\n",
       "    </tr>\n",
       "    <tr>\n",
       "      <th>6268</th>\n",
       "      <td>16-17-poesia</td>\n",
       "      <td>only-tokens</td>\n",
       "      <td>5000</td>\n",
       "      <td>w</td>\n",
       "      <td>1</td>\n",
       "      <td>dist.eder</td>\n",
       "      <td>87.285741</td>\n",
       "    </tr>\n",
       "    <tr>\n",
       "      <th>6269</th>\n",
       "      <td>16-17-poesia</td>\n",
       "      <td>only-tokens</td>\n",
       "      <td>5000</td>\n",
       "      <td>w</td>\n",
       "      <td>1</td>\n",
       "      <td>dist.wurzburg</td>\n",
       "      <td>87.234585</td>\n",
       "    </tr>\n",
       "    <tr>\n",
       "      <th>6270</th>\n",
       "      <td>16-17-poesia</td>\n",
       "      <td>annotation</td>\n",
       "      <td>5000</td>\n",
       "      <td>w</td>\n",
       "      <td>3</td>\n",
       "      <td>dist.wurzburg</td>\n",
       "      <td>72.264412</td>\n",
       "    </tr>\n",
       "  </tbody>\n",
       "</table>\n",
       "<p>4376 rows × 7 columns</p>\n",
       "</div>"
      ],
      "text/plain": [
       "              corpus      version   mfw features  ngrams      distances  \\\n",
       "0     19-20-nov-hisp  combination   100        w       4    dist.minmax   \n",
       "1       19-20-poesia  combination   100        c       1    dist.minmax   \n",
       "2       19-20-poesia  combination   100        c       3      dist.eder   \n",
       "3       19-20-poesia  combination   100        c       4      dist.eder   \n",
       "4       19-20-poesia  combination   100        c       4    dist.minmax   \n",
       "...              ...          ...   ...      ...     ...            ...   \n",
       "6265    19-20-poesia       fusion  5000        w       2     dist.delta   \n",
       "6267    19-20-poesia  only-tokens  5000        w       1  dist.wurzburg   \n",
       "6268    16-17-poesia  only-tokens  5000        w       1      dist.eder   \n",
       "6269    16-17-poesia  only-tokens  5000        w       1  dist.wurzburg   \n",
       "6270    16-17-poesia   annotation  5000        w       3  dist.wurzburg   \n",
       "\n",
       "          media  \n",
       "0     56.607143  \n",
       "1     35.441089  \n",
       "2     36.600046  \n",
       "3     36.613470  \n",
       "4     37.338606  \n",
       "...         ...  \n",
       "6265  42.506842  \n",
       "6267  75.415982  \n",
       "6268  87.285741  \n",
       "6269  87.234585  \n",
       "6270  72.264412  \n",
       "\n",
       "[4376 rows x 7 columns]"
      ]
     },
     "execution_count": 33,
     "metadata": {},
     "output_type": "execute_result"
    }
   ],
   "source": [
    "df"
   ]
  },
  {
   "cell_type": "code",
   "execution_count": 34,
   "metadata": {},
   "outputs": [],
   "source": [
    "df.rename(columns={\"media\": \"mean\"}, inplace=True)"
   ]
  },
  {
   "cell_type": "code",
   "execution_count": 35,
   "metadata": {},
   "outputs": [],
   "source": [
    "df[\"distances\"].replace(\n",
    "    {\n",
    "        'dist.wurzburg': \"dist.delta.cosine\",\n",
    "        'dist.eder': \"dist.delta.eder\",\n",
    "        'dist.delta': \"dist.delta.burrows\",\n",
    "        }, inplace=True)"
   ]
  },
  {
   "cell_type": "code",
   "execution_count": 36,
   "metadata": {},
   "outputs": [
    {
     "data": {
      "text/plain": [
       "array(['dist.minmax', 'dist.delta.eder', 'dist.delta.cosine',\n",
       "       'dist.delta.burrows'], dtype=object)"
      ]
     },
     "execution_count": 36,
     "metadata": {},
     "output_type": "execute_result"
    }
   ],
   "source": [
    "df[\"distances\"].unique()"
   ]
  },
  {
   "cell_type": "code",
   "execution_count": 37,
   "metadata": {},
   "outputs": [],
   "source": [
    "df[\"features\"].replace(\n",
    "    {\n",
    "        'c': \"character\",\n",
    "        'w': \"word\",\n",
    "        }, inplace=True)"
   ]
  },
  {
   "cell_type": "code",
   "execution_count": 38,
   "metadata": {},
   "outputs": [],
   "source": [
    "df.sort_values(by=[\"corpus\", \"mfw\"], inplace=True)"
   ]
  },
  {
   "cell_type": "code",
   "execution_count": 39,
   "metadata": {},
   "outputs": [
    {
     "data": {
      "text/plain": [
       "corpus\n",
       "16-17-poesia       54.458777\n",
       "16-17-prosa        64.476010\n",
       "16-17-teatro       61.121634\n",
       "19-20-cuent-esp    87.801437\n",
       "19-20-nov-esp      78.457122\n",
       "19-20-nov-hisp     78.314983\n",
       "19-20-poesia       46.148449\n",
       "Name: mean, dtype: float64"
      ]
     },
     "execution_count": 39,
     "metadata": {},
     "output_type": "execute_result"
    }
   ],
   "source": [
    "df.groupby([\"corpus\"])[\"mean\"].mean()"
   ]
  },
  {
   "cell_type": "code",
   "execution_count": 40,
   "metadata": {},
   "outputs": [],
   "source": [
    "summary_combined_df[\"results_mean\"] = df.groupby([\"corpus\"])[\"mean\"].mean()"
   ]
  },
  {
   "cell_type": "code",
   "execution_count": 41,
   "metadata": {},
   "outputs": [
    {
     "data": {
      "text/html": [
       "<div>\n",
       "<style scoped>\n",
       "    .dataframe tbody tr th:only-of-type {\n",
       "        vertical-align: middle;\n",
       "    }\n",
       "\n",
       "    .dataframe tbody tr th {\n",
       "        vertical-align: top;\n",
       "    }\n",
       "\n",
       "    .dataframe thead th {\n",
       "        text-align: right;\n",
       "    }\n",
       "</style>\n",
       "<table border=\"1\" class=\"dataframe\">\n",
       "  <thead>\n",
       "    <tr style=\"text-align: right;\">\n",
       "      <th></th>\n",
       "      <th>number_texts</th>\n",
       "      <th>number_authors</th>\n",
       "      <th>mean_number_text_author</th>\n",
       "      <th>std_number_text_author</th>\n",
       "      <th>mean_length</th>\n",
       "      <th>std_length</th>\n",
       "      <th>distribution_authors_texts</th>\n",
       "      <th>results_mean</th>\n",
       "    </tr>\n",
       "  </thead>\n",
       "  <tbody>\n",
       "    <tr>\n",
       "      <th>16-17-poesia</th>\n",
       "      <td>82</td>\n",
       "      <td>41</td>\n",
       "      <td>2.0</td>\n",
       "      <td>0.00</td>\n",
       "      <td>4818.85</td>\n",
       "      <td>6630.09</td>\n",
       "      <td>LuisCarrilloySotomayor     2\\nJosephdeLitalayC...</td>\n",
       "      <td>54.458777</td>\n",
       "    </tr>\n",
       "    <tr>\n",
       "      <th>16-17-prosa</th>\n",
       "      <td>24</td>\n",
       "      <td>5</td>\n",
       "      <td>4.8</td>\n",
       "      <td>3.42</td>\n",
       "      <td>65924.92</td>\n",
       "      <td>75740.65</td>\n",
       "      <td>Vives-Juan-Luis    9\\nMejía             8\\nVa...</td>\n",
       "      <td>64.476010</td>\n",
       "    </tr>\n",
       "    <tr>\n",
       "      <th>16-17-teatro</th>\n",
       "      <td>38</td>\n",
       "      <td>10</td>\n",
       "      <td>3.8</td>\n",
       "      <td>1.62</td>\n",
       "      <td>13011.58</td>\n",
       "      <td>4041.93</td>\n",
       "      <td>Lope             6\\nCalderon         6\\nTirso ...</td>\n",
       "      <td>61.121634</td>\n",
       "    </tr>\n",
       "    <tr>\n",
       "      <th>19-20-cuent-esp</th>\n",
       "      <td>17</td>\n",
       "      <td>5</td>\n",
       "      <td>3.4</td>\n",
       "      <td>0.89</td>\n",
       "      <td>40822.24</td>\n",
       "      <td>22187.59</td>\n",
       "      <td>Clarin          4\\nMiro            4\\nBazan   ...</td>\n",
       "      <td>87.801437</td>\n",
       "    </tr>\n",
       "    <tr>\n",
       "      <th>19-20-nov-esp</th>\n",
       "      <td>39</td>\n",
       "      <td>13</td>\n",
       "      <td>3.0</td>\n",
       "      <td>0.00</td>\n",
       "      <td>64642.72</td>\n",
       "      <td>35161.19</td>\n",
       "      <td>Valera          3\\nBazan           3\\nUnamuno ...</td>\n",
       "      <td>78.457122</td>\n",
       "    </tr>\n",
       "    <tr>\n",
       "      <th>19-20-nov-hisp</th>\n",
       "      <td>24</td>\n",
       "      <td>8</td>\n",
       "      <td>3.0</td>\n",
       "      <td>0.00</td>\n",
       "      <td>47010.88</td>\n",
       "      <td>35543.78</td>\n",
       "      <td>Holmberg      3\\nCambaceres    3\\nCuellar     ...</td>\n",
       "      <td>78.314983</td>\n",
       "    </tr>\n",
       "    <tr>\n",
       "      <th>19-20-poesia</th>\n",
       "      <td>64</td>\n",
       "      <td>32</td>\n",
       "      <td>2.0</td>\n",
       "      <td>0.00</td>\n",
       "      <td>1837.72</td>\n",
       "      <td>689.40</td>\n",
       "      <td>Ros-de-Olano-Antonio               2\\nBaralt-R...</td>\n",
       "      <td>46.148449</td>\n",
       "    </tr>\n",
       "  </tbody>\n",
       "</table>\n",
       "</div>"
      ],
      "text/plain": [
       "                 number_texts  number_authors  mean_number_text_author  \\\n",
       "16-17-poesia               82              41                      2.0   \n",
       "16-17-prosa                24               5                      4.8   \n",
       "16-17-teatro               38              10                      3.8   \n",
       "19-20-cuent-esp            17               5                      3.4   \n",
       "19-20-nov-esp              39              13                      3.0   \n",
       "19-20-nov-hisp             24               8                      3.0   \n",
       "19-20-poesia               64              32                      2.0   \n",
       "\n",
       "                 std_number_text_author  mean_length  std_length  \\\n",
       "16-17-poesia                       0.00      4818.85     6630.09   \n",
       "16-17-prosa                        3.42     65924.92    75740.65   \n",
       "16-17-teatro                       1.62     13011.58     4041.93   \n",
       "19-20-cuent-esp                    0.89     40822.24    22187.59   \n",
       "19-20-nov-esp                      0.00     64642.72    35161.19   \n",
       "19-20-nov-hisp                     0.00     47010.88    35543.78   \n",
       "19-20-poesia                       0.00      1837.72      689.40   \n",
       "\n",
       "                                        distribution_authors_texts  \\\n",
       "16-17-poesia     LuisCarrilloySotomayor     2\\nJosephdeLitalayC...   \n",
       "16-17-prosa      Vives-Juan-Luis    9\\nMejía             8\\nVa...   \n",
       "16-17-teatro     Lope             6\\nCalderon         6\\nTirso ...   \n",
       "19-20-cuent-esp  Clarin          4\\nMiro            4\\nBazan   ...   \n",
       "19-20-nov-esp    Valera          3\\nBazan           3\\nUnamuno ...   \n",
       "19-20-nov-hisp   Holmberg      3\\nCambaceres    3\\nCuellar     ...   \n",
       "19-20-poesia     Ros-de-Olano-Antonio               2\\nBaralt-R...   \n",
       "\n",
       "                 results_mean  \n",
       "16-17-poesia        54.458777  \n",
       "16-17-prosa         64.476010  \n",
       "16-17-teatro        61.121634  \n",
       "19-20-cuent-esp     87.801437  \n",
       "19-20-nov-esp       78.457122  \n",
       "19-20-nov-hisp      78.314983  \n",
       "19-20-poesia        46.148449  "
      ]
     },
     "execution_count": 41,
     "metadata": {},
     "output_type": "execute_result"
    }
   ],
   "source": [
    "summary_combined_df"
   ]
  },
  {
   "cell_type": "code",
   "execution_count": 42,
   "metadata": {},
   "outputs": [],
   "source": [
    "summary_combined_df[\"results_tokens_word_1gram_mean\"] = df.loc[(df[\"version\"] == \"only-tokens\") & (df[\"features\"] == \"word\")  & (df[\"ngrams\"] == 1)].groupby([\"corpus\"])[\"mean\"].mean()"
   ]
  },
  {
   "cell_type": "code",
   "execution_count": 43,
   "metadata": {},
   "outputs": [],
   "source": [
    "factors = ['number_texts',\n",
    " 'number_authors',\n",
    " 'mean_number_text_author',\n",
    " 'std_number_text_author',\n",
    " 'mean_length',\n",
    " 'std_length']\n"
   ]
  },
  {
   "cell_type": "code",
   "execution_count": 44,
   "metadata": {},
   "outputs": [
    {
     "data": {
      "text/plain": [
       "<AxesSubplot:title={'center':'correlation between number_texts and the results'}, xlabel='number_texts', ylabel='results_mean'>"
      ]
     },
     "execution_count": 44,
     "metadata": {},
     "output_type": "execute_result"
    },
    {
     "data": {
      "image/png": "[encoded data removed]",
      "text/plain": [
       "<Figure size 432x288 with 1 Axes>"
      ]
     },
     "metadata": {
      "needs_background": "light"
     },
     "output_type": "display_data"
    }
   ],
   "source": [
    "summary_combined_df.plot.scatter(\"number_texts\", \"results_mean\", title=\"correlation between number_texts and the results\")"
   ]
  },
  {
   "cell_type": "code",
   "execution_count": 45,
   "metadata": {},
   "outputs": [],
   "source": [
    "from  scipy import stats"
   ]
  },
  {
   "cell_type": "code",
   "execution_count": 46,
   "metadata": {},
   "outputs": [],
   "source": [
    "#r, p_value = stats.pearsonr(summary_combined_df[factor], summary_combined_df[\"results_media\"])\n",
    "#r"
   ]
  },
  {
   "cell_type": "code",
   "execution_count": 47,
   "metadata": {},
   "outputs": [
    {
     "data": {
      "text/html": [
       "<div>\n",
       "<style scoped>\n",
       "    .dataframe tbody tr th:only-of-type {\n",
       "        vertical-align: middle;\n",
       "    }\n",
       "\n",
       "    .dataframe tbody tr th {\n",
       "        vertical-align: top;\n",
       "    }\n",
       "\n",
       "    .dataframe thead th {\n",
       "        text-align: right;\n",
       "    }\n",
       "</style>\n",
       "<table border=\"1\" class=\"dataframe\">\n",
       "  <thead>\n",
       "    <tr style=\"text-align: right;\">\n",
       "      <th></th>\n",
       "      <th>number_texts</th>\n",
       "      <th>number_authors</th>\n",
       "      <th>mean_number_text_author</th>\n",
       "      <th>std_number_text_author</th>\n",
       "      <th>mean_length</th>\n",
       "      <th>std_length</th>\n",
       "      <th>distribution_authors_texts</th>\n",
       "      <th>results_mean</th>\n",
       "      <th>results_tokens_word_1gram_mean</th>\n",
       "    </tr>\n",
       "  </thead>\n",
       "  <tbody>\n",
       "    <tr>\n",
       "      <th>16-17-poesia</th>\n",
       "      <td>82</td>\n",
       "      <td>41</td>\n",
       "      <td>2.0</td>\n",
       "      <td>0.00</td>\n",
       "      <td>4818.85</td>\n",
       "      <td>6630.09</td>\n",
       "      <td>LuisCarrilloySotomayor     2\\nJosephdeLitalayC...</td>\n",
       "      <td>54.458777</td>\n",
       "      <td>71.332810</td>\n",
       "    </tr>\n",
       "    <tr>\n",
       "      <th>16-17-prosa</th>\n",
       "      <td>24</td>\n",
       "      <td>5</td>\n",
       "      <td>4.8</td>\n",
       "      <td>3.42</td>\n",
       "      <td>65924.92</td>\n",
       "      <td>75740.65</td>\n",
       "      <td>Vives-Juan-Luis    9\\nMejía             8\\nVa...</td>\n",
       "      <td>64.476010</td>\n",
       "      <td>71.101190</td>\n",
       "    </tr>\n",
       "    <tr>\n",
       "      <th>16-17-teatro</th>\n",
       "      <td>38</td>\n",
       "      <td>10</td>\n",
       "      <td>3.8</td>\n",
       "      <td>1.62</td>\n",
       "      <td>13011.58</td>\n",
       "      <td>4041.93</td>\n",
       "      <td>Lope             6\\nCalderon         6\\nTirso ...</td>\n",
       "      <td>61.121634</td>\n",
       "      <td>72.075397</td>\n",
       "    </tr>\n",
       "    <tr>\n",
       "      <th>19-20-cuent-esp</th>\n",
       "      <td>17</td>\n",
       "      <td>5</td>\n",
       "      <td>3.4</td>\n",
       "      <td>0.89</td>\n",
       "      <td>40822.24</td>\n",
       "      <td>22187.59</td>\n",
       "      <td>Clarin          4\\nMiro            4\\nBazan   ...</td>\n",
       "      <td>87.801437</td>\n",
       "      <td>90.285714</td>\n",
       "    </tr>\n",
       "    <tr>\n",
       "      <th>19-20-nov-esp</th>\n",
       "      <td>39</td>\n",
       "      <td>13</td>\n",
       "      <td>3.0</td>\n",
       "      <td>0.00</td>\n",
       "      <td>64642.72</td>\n",
       "      <td>35161.19</td>\n",
       "      <td>Valera          3\\nBazan           3\\nUnamuno ...</td>\n",
       "      <td>78.457122</td>\n",
       "      <td>85.779221</td>\n",
       "    </tr>\n",
       "    <tr>\n",
       "      <th>19-20-nov-hisp</th>\n",
       "      <td>24</td>\n",
       "      <td>8</td>\n",
       "      <td>3.0</td>\n",
       "      <td>0.00</td>\n",
       "      <td>47010.88</td>\n",
       "      <td>35543.78</td>\n",
       "      <td>Holmberg      3\\nCambaceres    3\\nCuellar     ...</td>\n",
       "      <td>78.314983</td>\n",
       "      <td>86.279762</td>\n",
       "    </tr>\n",
       "    <tr>\n",
       "      <th>19-20-poesia</th>\n",
       "      <td>64</td>\n",
       "      <td>32</td>\n",
       "      <td>2.0</td>\n",
       "      <td>0.00</td>\n",
       "      <td>1837.72</td>\n",
       "      <td>689.40</td>\n",
       "      <td>Ros-de-Olano-Antonio               2\\nBaralt-R...</td>\n",
       "      <td>46.148449</td>\n",
       "      <td>57.033262</td>\n",
       "    </tr>\n",
       "  </tbody>\n",
       "</table>\n",
       "</div>"
      ],
      "text/plain": [
       "                 number_texts  number_authors  mean_number_text_author  \\\n",
       "16-17-poesia               82              41                      2.0   \n",
       "16-17-prosa                24               5                      4.8   \n",
       "16-17-teatro               38              10                      3.8   \n",
       "19-20-cuent-esp            17               5                      3.4   \n",
       "19-20-nov-esp              39              13                      3.0   \n",
       "19-20-nov-hisp             24               8                      3.0   \n",
       "19-20-poesia               64              32                      2.0   \n",
       "\n",
       "                 std_number_text_author  mean_length  std_length  \\\n",
       "16-17-poesia                       0.00      4818.85     6630.09   \n",
       "16-17-prosa                        3.42     65924.92    75740.65   \n",
       "16-17-teatro                       1.62     13011.58     4041.93   \n",
       "19-20-cuent-esp                    0.89     40822.24    22187.59   \n",
       "19-20-nov-esp                      0.00     64642.72    35161.19   \n",
       "19-20-nov-hisp                     0.00     47010.88    35543.78   \n",
       "19-20-poesia                       0.00      1837.72      689.40   \n",
       "\n",
       "                                        distribution_authors_texts  \\\n",
       "16-17-poesia     LuisCarrilloySotomayor     2\\nJosephdeLitalayC...   \n",
       "16-17-prosa      Vives-Juan-Luis    9\\nMejía             8\\nVa...   \n",
       "16-17-teatro     Lope             6\\nCalderon         6\\nTirso ...   \n",
       "19-20-cuent-esp  Clarin          4\\nMiro            4\\nBazan   ...   \n",
       "19-20-nov-esp    Valera          3\\nBazan           3\\nUnamuno ...   \n",
       "19-20-nov-hisp   Holmberg      3\\nCambaceres    3\\nCuellar     ...   \n",
       "19-20-poesia     Ros-de-Olano-Antonio               2\\nBaralt-R...   \n",
       "\n",
       "                 results_mean  results_tokens_word_1gram_mean  \n",
       "16-17-poesia        54.458777                       71.332810  \n",
       "16-17-prosa         64.476010                       71.101190  \n",
       "16-17-teatro        61.121634                       72.075397  \n",
       "19-20-cuent-esp     87.801437                       90.285714  \n",
       "19-20-nov-esp       78.457122                       85.779221  \n",
       "19-20-nov-hisp      78.314983                       86.279762  \n",
       "19-20-poesia        46.148449                       57.033262  "
      ]
     },
     "execution_count": 47,
     "metadata": {},
     "output_type": "execute_result"
    }
   ],
   "source": [
    "summary_combined_df"
   ]
  },
  {
   "cell_type": "code",
   "execution_count": 48,
   "metadata": {},
   "outputs": [],
   "source": [
    "outdir = \"./../visualisations/\""
   ]
  },
  {
   "cell_type": "code",
   "execution_count": 49,
   "metadata": {},
   "outputs": [
    {
     "data": {
      "image/png": "[encoded data removed]",
      "text/plain": [
       "<Figure size 432x432 with 1 Axes>"
      ]
     },
     "metadata": {
      "needs_background": "light"
     },
     "output_type": "display_data"
    }
   ],
   "source": [
    "factor = \"number_texts\"\n",
    "r, p_value = stats.pearsonr(summary_combined_df[factor], summary_combined_df[\"results_mean\"])\n",
    "\n",
    "summary_combined_df.plot.scatter(factor, \"results_mean\", title=\"Correlation between \" + factor + \" and the results\\n Pearson's r = \" + str(round(r, 2)) + \", p-value = \" + str(round(p_value, 3)), figsize=(6,6))\n",
    "\n",
    "for index, row  in summary_combined_df.iterrows():\n",
    "    if index == \"16-17-poesia\":\n",
    "        horizontal_value = row[\"number_texts\"] - 15\n",
    "    elif index == \"16-17-teatro\":\n",
    "        horizontal_value = row[\"number_texts\"] \n",
    "    else:\n",
    "        horizontal_value = row[\"number_texts\"] + 2\n",
    "    \n",
    "    if index == \"19-20-nov-esp\":\n",
    "        vertical_value = row[\"results_mean\"] - 1\n",
    "    elif index == \"19-20-nov-hisp\":\n",
    "        vertical_value = row[\"results_mean\"] + 1\n",
    "    elif index == \"16-17-teatro\":\n",
    "        vertical_value = row[\"results_mean\"] +1\n",
    "    elif index == \"16-17-poesia\":\n",
    "        vertical_value = row[\"results_mean\"] +1\n",
    "    else:\n",
    "        vertical_value = row[\"results_mean\"]\n",
    "\n",
    "    plt.text(horizontal_value ,vertical_value, index, fontsize=12)\n",
    "\n",
    "plt.tight_layout()\n",
    "plt.savefig(outdir + \"scatter_number-texts_results.png\", dpi=300, format=\"png\", facecolor='white', transparent=False)\n",
    "\n"
   ]
  },
  {
   "cell_type": "code",
   "execution_count": 50,
   "metadata": {},
   "outputs": [
    {
     "data": {
      "text/html": [
       "<div>\n",
       "<style scoped>\n",
       "    .dataframe tbody tr th:only-of-type {\n",
       "        vertical-align: middle;\n",
       "    }\n",
       "\n",
       "    .dataframe tbody tr th {\n",
       "        vertical-align: top;\n",
       "    }\n",
       "\n",
       "    .dataframe thead th {\n",
       "        text-align: right;\n",
       "    }\n",
       "</style>\n",
       "<table border=\"1\" class=\"dataframe\">\n",
       "  <thead>\n",
       "    <tr style=\"text-align: right;\">\n",
       "      <th></th>\n",
       "      <th>number_texts</th>\n",
       "      <th>number_authors</th>\n",
       "      <th>mean_number_text_author</th>\n",
       "      <th>std_number_text_author</th>\n",
       "      <th>mean_length</th>\n",
       "      <th>std_length</th>\n",
       "      <th>distribution_authors_texts</th>\n",
       "      <th>results_mean</th>\n",
       "      <th>results_tokens_word_1gram_mean</th>\n",
       "    </tr>\n",
       "  </thead>\n",
       "  <tbody>\n",
       "    <tr>\n",
       "      <th>16-17-poesia</th>\n",
       "      <td>82</td>\n",
       "      <td>41</td>\n",
       "      <td>2.0</td>\n",
       "      <td>0.00</td>\n",
       "      <td>4818.85</td>\n",
       "      <td>6630.09</td>\n",
       "      <td>LuisCarrilloySotomayor     2\\nJosephdeLitalayC...</td>\n",
       "      <td>54.458777</td>\n",
       "      <td>71.332810</td>\n",
       "    </tr>\n",
       "    <tr>\n",
       "      <th>16-17-prosa</th>\n",
       "      <td>24</td>\n",
       "      <td>5</td>\n",
       "      <td>4.8</td>\n",
       "      <td>3.42</td>\n",
       "      <td>65924.92</td>\n",
       "      <td>75740.65</td>\n",
       "      <td>Vives-Juan-Luis    9\\nMejía             8\\nVa...</td>\n",
       "      <td>64.476010</td>\n",
       "      <td>71.101190</td>\n",
       "    </tr>\n",
       "    <tr>\n",
       "      <th>16-17-teatro</th>\n",
       "      <td>38</td>\n",
       "      <td>10</td>\n",
       "      <td>3.8</td>\n",
       "      <td>1.62</td>\n",
       "      <td>13011.58</td>\n",
       "      <td>4041.93</td>\n",
       "      <td>Lope             6\\nCalderon         6\\nTirso ...</td>\n",
       "      <td>61.121634</td>\n",
       "      <td>72.075397</td>\n",
       "    </tr>\n",
       "    <tr>\n",
       "      <th>19-20-cuent-esp</th>\n",
       "      <td>17</td>\n",
       "      <td>5</td>\n",
       "      <td>3.4</td>\n",
       "      <td>0.89</td>\n",
       "      <td>40822.24</td>\n",
       "      <td>22187.59</td>\n",
       "      <td>Clarin          4\\nMiro            4\\nBazan   ...</td>\n",
       "      <td>87.801437</td>\n",
       "      <td>90.285714</td>\n",
       "    </tr>\n",
       "    <tr>\n",
       "      <th>19-20-nov-esp</th>\n",
       "      <td>39</td>\n",
       "      <td>13</td>\n",
       "      <td>3.0</td>\n",
       "      <td>0.00</td>\n",
       "      <td>64642.72</td>\n",
       "      <td>35161.19</td>\n",
       "      <td>Valera          3\\nBazan           3\\nUnamuno ...</td>\n",
       "      <td>78.457122</td>\n",
       "      <td>85.779221</td>\n",
       "    </tr>\n",
       "    <tr>\n",
       "      <th>19-20-nov-hisp</th>\n",
       "      <td>24</td>\n",
       "      <td>8</td>\n",
       "      <td>3.0</td>\n",
       "      <td>0.00</td>\n",
       "      <td>47010.88</td>\n",
       "      <td>35543.78</td>\n",
       "      <td>Holmberg      3\\nCambaceres    3\\nCuellar     ...</td>\n",
       "      <td>78.314983</td>\n",
       "      <td>86.279762</td>\n",
       "    </tr>\n",
       "    <tr>\n",
       "      <th>19-20-poesia</th>\n",
       "      <td>64</td>\n",
       "      <td>32</td>\n",
       "      <td>2.0</td>\n",
       "      <td>0.00</td>\n",
       "      <td>1837.72</td>\n",
       "      <td>689.40</td>\n",
       "      <td>Ros-de-Olano-Antonio               2\\nBaralt-R...</td>\n",
       "      <td>46.148449</td>\n",
       "      <td>57.033262</td>\n",
       "    </tr>\n",
       "  </tbody>\n",
       "</table>\n",
       "</div>"
      ],
      "text/plain": [
       "                 number_texts  number_authors  mean_number_text_author  \\\n",
       "16-17-poesia               82              41                      2.0   \n",
       "16-17-prosa                24               5                      4.8   \n",
       "16-17-teatro               38              10                      3.8   \n",
       "19-20-cuent-esp            17               5                      3.4   \n",
       "19-20-nov-esp              39              13                      3.0   \n",
       "19-20-nov-hisp             24               8                      3.0   \n",
       "19-20-poesia               64              32                      2.0   \n",
       "\n",
       "                 std_number_text_author  mean_length  std_length  \\\n",
       "16-17-poesia                       0.00      4818.85     6630.09   \n",
       "16-17-prosa                        3.42     65924.92    75740.65   \n",
       "16-17-teatro                       1.62     13011.58     4041.93   \n",
       "19-20-cuent-esp                    0.89     40822.24    22187.59   \n",
       "19-20-nov-esp                      0.00     64642.72    35161.19   \n",
       "19-20-nov-hisp                     0.00     47010.88    35543.78   \n",
       "19-20-poesia                       0.00      1837.72      689.40   \n",
       "\n",
       "                                        distribution_authors_texts  \\\n",
       "16-17-poesia     LuisCarrilloySotomayor     2\\nJosephdeLitalayC...   \n",
       "16-17-prosa      Vives-Juan-Luis    9\\nMejía             8\\nVa...   \n",
       "16-17-teatro     Lope             6\\nCalderon         6\\nTirso ...   \n",
       "19-20-cuent-esp  Clarin          4\\nMiro            4\\nBazan   ...   \n",
       "19-20-nov-esp    Valera          3\\nBazan           3\\nUnamuno ...   \n",
       "19-20-nov-hisp   Holmberg      3\\nCambaceres    3\\nCuellar     ...   \n",
       "19-20-poesia     Ros-de-Olano-Antonio               2\\nBaralt-R...   \n",
       "\n",
       "                 results_mean  results_tokens_word_1gram_mean  \n",
       "16-17-poesia        54.458777                       71.332810  \n",
       "16-17-prosa         64.476010                       71.101190  \n",
       "16-17-teatro        61.121634                       72.075397  \n",
       "19-20-cuent-esp     87.801437                       90.285714  \n",
       "19-20-nov-esp       78.457122                       85.779221  \n",
       "19-20-nov-hisp      78.314983                       86.279762  \n",
       "19-20-poesia        46.148449                       57.033262  "
      ]
     },
     "execution_count": 50,
     "metadata": {},
     "output_type": "execute_result"
    }
   ],
   "source": [
    "summary_combined_df"
   ]
  },
  {
   "cell_type": "code",
   "execution_count": 51,
   "metadata": {},
   "outputs": [
    {
     "data": {
      "image/png": "[encoded data removed]",
      "text/plain": [
       "<Figure size 432x288 with 1 Axes>"
      ]
     },
     "metadata": {
      "needs_background": "light"
     },
     "output_type": "display_data"
    },
    {
     "data": {
      "image/png": "[encoded data removed]",
      "text/plain": [
       "<Figure size 432x288 with 1 Axes>"
      ]
     },
     "metadata": {
      "needs_background": "light"
     },
     "output_type": "display_data"
    },
    {
     "data": {
      "image/png": "[encoded data removed]",
      "text/plain": [
       "<Figure size 432x288 with 1 Axes>"
      ]
     },
     "metadata": {
      "needs_background": "light"
     },
     "output_type": "display_data"
    },
    {
     "data": {
      "image/png": "[encoded data removed]",
      "text/plain": [
       "<Figure size 432x288 with 1 Axes>"
      ]
     },
     "metadata": {
      "needs_background": "light"
     },
     "output_type": "display_data"
    },
    {
     "data": {
      "image/png": "[encoded data removed]",
      "text/plain": [
       "<Figure size 432x288 with 1 Axes>"
      ]
     },
     "metadata": {
      "needs_background": "light"
     },
     "output_type": "display_data"
    },
    {
     "data": {
      "image/png": "[encoded data removed]",
      "text/plain": [
       "<Figure size 432x288 with 1 Axes>"
      ]
     },
     "metadata": {
      "needs_background": "light"
     },
     "output_type": "display_data"
    }
   ],
   "source": [
    "for factor in factors:\n",
    "\n",
    "    r, p_value = stats.pearsonr(summary_combined_df[factor], summary_combined_df[\"results_mean\"])\n",
    "    summary_combined_df.plot.scatter(factor, \"results_mean\", title=\"Correlation between \" + factor + \" and the results\\n Pearson's r = \" + str(round(r, 2)) + \", p-value = \" + str(round(p_value, 3)))\n",
    "    plt.tight_layout()\n",
    "    plt.savefig(outdir + \"scatter_\" + factor + \"_results.png\", dpi=300, format=\"png\", facecolor='white', transparent=False)\n",
    "\n",
    "\n",
    "\n",
    "    \"\"\"\n",
    "    r, p_value = stats.pearsonr(summary_combined_df[factor], summary_combined_df[\"results_tokens_word_1gram_mean\"])\n",
    "    summary_combined_df.plot.scatter(factor, \"results_tokens_word_1gram_mean\", title=\"Correlation between \" + factor + \" and the results (tokens, 1gram)\\n Pearson's r = \" + str(round(r, 2)) + \", p-value = \" + str(round(p_value, 3)))\n",
    "    plt.tight_layout()\n",
    "    plt.savefig(outdir + \"scatter_\" + factor + \"_results_1gram_tokens.png\", dpi=300, format=\"png\", facecolor='white', transparent=False)\n",
    "    \"\"\"\n"
   ]
  },
  {
   "cell_type": "code",
   "execution_count": 53,
   "metadata": {},
   "outputs": [
    {
     "data": {
      "text/plain": [
       "(7, 9)"
      ]
     },
     "execution_count": 53,
     "metadata": {},
     "output_type": "execute_result"
    }
   ],
   "source": [
    "summary_combined_df.shape"
   ]
  },
  {
   "cell_type": "code",
   "execution_count": null,
   "metadata": {},
   "outputs": [],
   "source": []
  }
 ],
 "metadata": {
  "interpreter": {
   "hash": "f47a9bd213414a99a19c677dbc3fe06cd2e784c4236a07176834505119fd1ea8"
  },
  "kernelspec": {
   "display_name": "Python 3.7.6 ('base')",
   "language": "python",
   "name": "python3"
  },
  "language_info": {
   "codemirror_mode": {
    "name": "ipython",
    "version": 3
   },
   "file_extension": ".py",
   "mimetype": "text/x-python",
   "name": "python",
   "nbconvert_exporter": "python",
   "pygments_lexer": "ipython3",
   "version": "3.7.6"
  },
  "vscode": {
   "interpreter": {
    "hash": "f47a9bd213414a99a19c677dbc3fe06cd2e784c4236a07176834505119fd1ea8"
   }
  }
 },
 "nbformat": 4,
 "nbformat_minor": 2
}
